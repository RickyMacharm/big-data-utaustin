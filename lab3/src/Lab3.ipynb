{
 "cells": [
  {
   "cell_type": "markdown",
   "metadata": {},
   "source": [
    "# Lab 3\n",
    "### Rohan Nagar\n",
    "\n",
    "*Note: This assignment is done in Python 3.*"
   ]
  },
  {
   "cell_type": "code",
   "execution_count": 2,
   "metadata": {
    "collapsed": false
   },
   "outputs": [],
   "source": [
    "import numpy as np\n",
    "import seaborn as sns\n",
    "import scipy as sp\n",
    "import pandas as pd\n",
    "import matplotlib as mpl\n",
    "import matplotlib.pyplot as plt\n",
    "\n",
    "%matplotlib inline\n",
    "\n",
    "from sklearn import preprocessing\n",
    "from sklearn.cross_validation import train_test_split\n",
    "from sklearn.ensemble import AdaBoostClassifier\n",
    "from sklearn.metrics import accuracy_score\n",
    "from sklearn.svm import SVC"
   ]
  },
  {
   "cell_type": "code",
   "execution_count": 3,
   "metadata": {
    "collapsed": true
   },
   "outputs": [],
   "source": [
    "# This function takes in a pandas dataframe and returns a preprocessed form of the data.\n",
    "# Deals with missing values and converts categorical data to a numerical representation.\n",
    "def preprocess_data(data):\n",
    "    data = data.replace('?', np.nan)\n",
    "    \n",
    "    # Replace missing categorical data with most-frequent and missing numerical data with mean\n",
    "    data = data.fillna(pd.Series(\n",
    "            [data[c].value_counts().index[0] if data[c].dtype == np.dtype('O') else data[c].mean() for c in data],\n",
    "            index=data.columns))\n",
    "\n",
    "    # Convert categorical data into numerical labels\n",
    "    for c in data:\n",
    "        if data[c].dtype == np.dtype('O'):\n",
    "            encoder = preprocessing.LabelEncoder()\n",
    "            data[c] = encoder.fit_transform(data[c])\n",
    "            \n",
    "    return data"
   ]
  },
  {
   "cell_type": "markdown",
   "metadata": {},
   "source": [
    "### Report Question (Missing Data)\n",
    "\n",
    "1. I dealt with missing data in two different ways. If the data was categorical, then I filled in that missing categorical data with the most frequently occuring type. For example, if a row is missing the `workclass` information, and `Private` is the most common `workclass`, then that row will be filled in with the value `Private`.\n",
    "\n",
    "  The second way I dealt with missing data was if it was numerical. In this case, if a row was missing data, it was filled in with the average of all available data in that column. For example, if a row is missing the `capital-gain` feature, then the average of `capital-gain` from all the data will be used to fill in the row."
   ]
  },
  {
   "cell_type": "markdown",
   "metadata": {},
   "source": [
    "## Part 1 - SVMs\n",
    "\n",
    "First, let's read in the training data and deal with missing values by calling our `preprocess_data` function."
   ]
  },
  {
   "cell_type": "code",
   "execution_count": 4,
   "metadata": {
    "collapsed": false
   },
   "outputs": [
    {
     "name": "stdout",
     "output_type": "stream",
     "text": [
      "(32561, 15)\n"
     ]
    },
    {
     "data": {
      "text/html": [
       "<div>\n",
       "<table border=\"1\" class=\"dataframe\">\n",
       "  <thead>\n",
       "    <tr style=\"text-align: right;\">\n",
       "      <th></th>\n",
       "      <th>age</th>\n",
       "      <th>workclass</th>\n",
       "      <th>fnlwgt</th>\n",
       "      <th>education</th>\n",
       "      <th>education-num</th>\n",
       "      <th>marital-status</th>\n",
       "      <th>occupation</th>\n",
       "      <th>relationship</th>\n",
       "      <th>race</th>\n",
       "      <th>sex</th>\n",
       "      <th>capital-gain</th>\n",
       "      <th>capital-loss</th>\n",
       "      <th>hours-per-week</th>\n",
       "      <th>native-country</th>\n",
       "      <th>salary</th>\n",
       "    </tr>\n",
       "  </thead>\n",
       "  <tbody>\n",
       "    <tr>\n",
       "      <th>0</th>\n",
       "      <td>39</td>\n",
       "      <td>6</td>\n",
       "      <td>77516</td>\n",
       "      <td>9</td>\n",
       "      <td>13</td>\n",
       "      <td>4</td>\n",
       "      <td>0</td>\n",
       "      <td>1</td>\n",
       "      <td>4</td>\n",
       "      <td>1</td>\n",
       "      <td>2174</td>\n",
       "      <td>0</td>\n",
       "      <td>40</td>\n",
       "      <td>38</td>\n",
       "      <td>0</td>\n",
       "    </tr>\n",
       "    <tr>\n",
       "      <th>1</th>\n",
       "      <td>50</td>\n",
       "      <td>5</td>\n",
       "      <td>83311</td>\n",
       "      <td>9</td>\n",
       "      <td>13</td>\n",
       "      <td>2</td>\n",
       "      <td>3</td>\n",
       "      <td>0</td>\n",
       "      <td>4</td>\n",
       "      <td>1</td>\n",
       "      <td>0</td>\n",
       "      <td>0</td>\n",
       "      <td>13</td>\n",
       "      <td>38</td>\n",
       "      <td>0</td>\n",
       "    </tr>\n",
       "    <tr>\n",
       "      <th>2</th>\n",
       "      <td>38</td>\n",
       "      <td>3</td>\n",
       "      <td>215646</td>\n",
       "      <td>11</td>\n",
       "      <td>9</td>\n",
       "      <td>0</td>\n",
       "      <td>5</td>\n",
       "      <td>1</td>\n",
       "      <td>4</td>\n",
       "      <td>1</td>\n",
       "      <td>0</td>\n",
       "      <td>0</td>\n",
       "      <td>40</td>\n",
       "      <td>38</td>\n",
       "      <td>0</td>\n",
       "    </tr>\n",
       "    <tr>\n",
       "      <th>3</th>\n",
       "      <td>53</td>\n",
       "      <td>3</td>\n",
       "      <td>234721</td>\n",
       "      <td>1</td>\n",
       "      <td>7</td>\n",
       "      <td>2</td>\n",
       "      <td>5</td>\n",
       "      <td>0</td>\n",
       "      <td>2</td>\n",
       "      <td>1</td>\n",
       "      <td>0</td>\n",
       "      <td>0</td>\n",
       "      <td>40</td>\n",
       "      <td>38</td>\n",
       "      <td>0</td>\n",
       "    </tr>\n",
       "    <tr>\n",
       "      <th>4</th>\n",
       "      <td>28</td>\n",
       "      <td>3</td>\n",
       "      <td>338409</td>\n",
       "      <td>9</td>\n",
       "      <td>13</td>\n",
       "      <td>2</td>\n",
       "      <td>9</td>\n",
       "      <td>5</td>\n",
       "      <td>2</td>\n",
       "      <td>0</td>\n",
       "      <td>0</td>\n",
       "      <td>0</td>\n",
       "      <td>40</td>\n",
       "      <td>4</td>\n",
       "      <td>0</td>\n",
       "    </tr>\n",
       "  </tbody>\n",
       "</table>\n",
       "</div>"
      ],
      "text/plain": [
       "   age  workclass  fnlwgt  education  education-num  marital-status  \\\n",
       "0   39          6   77516          9             13               4   \n",
       "1   50          5   83311          9             13               2   \n",
       "2   38          3  215646         11              9               0   \n",
       "3   53          3  234721          1              7               2   \n",
       "4   28          3  338409          9             13               2   \n",
       "\n",
       "   occupation  relationship  race  sex  capital-gain  capital-loss  \\\n",
       "0           0             1     4    1          2174             0   \n",
       "1           3             0     4    1             0             0   \n",
       "2           5             1     4    1             0             0   \n",
       "3           5             0     2    1             0             0   \n",
       "4           9             5     2    0             0             0   \n",
       "\n",
       "   hours-per-week  native-country  salary  \n",
       "0              40              38       0  \n",
       "1              13              38       0  \n",
       "2              40              38       0  \n",
       "3              40              38       0  \n",
       "4              40               4       0  "
      ]
     },
     "execution_count": 4,
     "metadata": {},
     "output_type": "execute_result"
    }
   ],
   "source": [
    "# Read data and preprocess\n",
    "data = pd.read_csv(\"../dataset/train.data\", sep=', ', header=None, names=['age', 'workclass', 'fnlwgt', 'education', 'education-num', 'marital-status', 'occupation', 'relationship', 'race', 'sex', 'capital-gain', 'capital-loss', 'hours-per-week', 'native-country', 'salary'], engine='python')\n",
    "data = preprocess_data(data)\n",
    "\n",
    "print(data.shape)\n",
    "data.head()"
   ]
  },
  {
   "cell_type": "markdown",
   "metadata": {},
   "source": [
    "Now we'll split the data into train and validation. We are going to use a standard percentage split. We are also going to try different test sizes to see which gives us the best accuracy. These sizes are 30%, 40%, 50%, 60%, and 70%; where those percentages represent the test size. We'll run a standard SVM RBF model to determine the best accuracy on the validation set."
   ]
  },
  {
   "cell_type": "code",
   "execution_count": 5,
   "metadata": {
    "collapsed": false
   },
   "outputs": [
    {
     "name": "stdout",
     "output_type": "stream",
     "text": [
      "SVM Accuracy with a split test size of 0.3: 0.7631282628723514\n",
      "SVM Accuracy with a split test size of 0.4: 0.7596928982725528\n",
      "SVM Accuracy with a split test size of 0.5: 0.7589214421718568\n",
      "SVM Accuracy with a split test size of 0.6: 0.7595331934278549\n",
      "SVM Accuracy with a split test size of 0.7: 0.760277278111701\n"
     ]
    }
   ],
   "source": [
    "# Slice columns into independent and dependent data\n",
    "indep_data, dep_data = data.iloc[:, :14], data.iloc[:, 14]\n",
    "\n",
    "sizes = [0.30, 0.40, 0.50, 0.60, 0.70]\n",
    "for s in sizes:\n",
    "    # Split into train and validation\n",
    "    X_train, X_valid, y_train, y_valid = train_test_split(indep_data, dep_data, test_size=s, random_state=42)\n",
    "    \n",
    "    # Scale the data\n",
    "    temp_scale = preprocessing.StandardScaler()\n",
    "    X_train, X_validation = temp_scale.fit_transform(X_train), temp_scale.transform(X_valid)\n",
    "    \n",
    "    # Run a test SVM so that we can see the accuracy on the validation set\n",
    "    temp_svm = SVC()\n",
    "    temp_svm.fit(X_train, y_train)\n",
    "    temp_score = accuracy_score(temp_svm.predict(X_valid), y_valid)\n",
    "    print(\"SVM Accuracy with a split test size of {}: {}\".format(s, temp_score))"
   ]
  },
  {
   "cell_type": "markdown",
   "metadata": {},
   "source": [
    "As we can see, a split test size of 0.30 gave us the best accuracy on the validation set. So, let's use that size to do our actual split."
   ]
  },
  {
   "cell_type": "code",
   "execution_count": 6,
   "metadata": {
    "collapsed": false
   },
   "outputs": [],
   "source": [
    "# Split into train and validation\n",
    "indep_train, indep_validation, dep_train, dep_validation = train_test_split(indep_data, dep_data, test_size=0.30, random_state=42)\n",
    "\n",
    "# Scale the data\n",
    "scale = preprocessing.StandardScaler()\n",
    "indep_train, indep_validation = scale.fit_transform(indep_train), scale.transform(indep_validation)"
   ]
  },
  {
   "cell_type": "markdown",
   "metadata": {},
   "source": [
    "<a id='svm_kernel'></a>\n",
    "Now to train SVMs! One each of RBF, Linear, and Polynomial. After that, we'll play with 3 other parameters to the SVM and then use the best model we can by playing with the parameters."
   ]
  },
  {
   "cell_type": "code",
   "execution_count": 7,
   "metadata": {
    "collapsed": false
   },
   "outputs": [
    {
     "name": "stdout",
     "output_type": "stream",
     "text": [
      "RBF Accuracy: 0.8505476507319071\n",
      "Linear Accuracy: 0.8216808271061521\n",
      "Polynomial Accuracy MSE: 0.8458388780837343\n"
     ]
    }
   ],
   "source": [
    "svm_rbf = SVC(kernel='rbf')\n",
    "svm_linear = SVC(kernel='linear')\n",
    "svm_poly = SVC(kernel='poly')\n",
    "\n",
    "svm_rbf.fit(indep_train, dep_train)\n",
    "svm_linear.fit(indep_train, dep_train)\n",
    "svm_poly.fit(indep_train, dep_train)\n",
    "\n",
    "rbf_score = accuracy_score(svm_rbf.predict(indep_validation), dep_validation)\n",
    "linear_score = accuracy_score(svm_linear.predict(indep_validation), dep_validation)\n",
    "poly_score = accuracy_score(svm_poly.predict(indep_validation), dep_validation)\n",
    "\n",
    "print(\"RBF Accuracy: {}\".format(rbf_score))\n",
    "print(\"Linear Accuracy: {}\".format(linear_score))\n",
    "print(\"Polynomial Accuracy MSE: {}\".format(poly_score))"
   ]
  },
  {
   "cell_type": "markdown",
   "metadata": {},
   "source": [
    "<a id='svm_param_tweaks'></a>\n",
    "It looks like the RBF kernel gave us the best accuracy on the validation set, with the polynomial kernel close behind. The linear kernel is the worst of the three."
   ]
  },
  {
   "cell_type": "code",
   "execution_count": 8,
   "metadata": {
    "collapsed": false
   },
   "outputs": [
    {
     "name": "stdout",
     "output_type": "stream",
     "text": [
      "SVM Accuracy for C=0.1: 0.8430750332685024\n",
      "SVM Accuracy for C=0.25: 0.8472719828027434\n",
      "SVM Accuracy for C=0.5: 0.8510594738458389\n",
      "SVM Accuracy for C=1.0: 0.8505476507319071\n",
      "SVM Accuracy for C=1.5: 0.8507523799774798\n",
      "SVM Accuracy for C=2.0: 0.8513665677141979\n",
      "SVM Accuracy for C=4.0: 0.8515712969597707\n"
     ]
    },
    {
     "data": {
      "image/png": "[encoded data removed]",
      "text/plain": [
       "<matplotlib.figure.Figure at 0x10c53fac8>"
      ]
     },
     "metadata": {},
     "output_type": "display_data"
    },
    {
     "data": {
      "text/plain": [
       "<matplotlib.figure.Figure at 0x10c6f3fd0>"
      ]
     },
     "metadata": {},
     "output_type": "display_data"
    }
   ],
   "source": [
    "# Train some more SVMs, changing different parameters\n",
    "# Change C parameter\n",
    "params = [0.1, 0.25, 0.5, 1.0, 1.5, 2.0, 4.0]\n",
    "accuracy = []\n",
    "\n",
    "for p in params:\n",
    "    svm = SVC(C=p)\n",
    "    svm.fit(indep_train, dep_train)\n",
    "    score = accuracy_score(svm.predict(indep_validation), dep_validation)\n",
    "    accuracy.append(score)\n",
    "    print(\"SVM Accuracy for C={}: {}\".format(p, score))\n",
    "    \n",
    "plt.scatter(params, accuracy, color='black')\n",
    "plt.xlabel('C value')\n",
    "plt.ylabel('accuracy')\n",
    "plt.show()\n",
    "sns.despine()"
   ]
  },
  {
   "cell_type": "markdown",
   "metadata": {},
   "source": [
    "The `C` parameter in the SVC model reflects a tradeoff between reducing misclassification and model simplicity. With a lower `C` value, the decision surface is smooth, but there are potentiall more misclassifications. With a high `C` value, the model will try to classify all training data correctly by giving the model more freedom to select more support vectors.\n",
    "\n",
    "As we can see from the plot, accuracy improves dramatically up to `C=0.5`, which is expected. However, after that the accuracy levels off. From this, we can assume that selecting more support vectors does not help improve accuracy on this set of data. Since there isn't much of a difference from 2.0 to 4.0, we will use a value of 2.0 in our final model to reduce complexity."
   ]
  },
  {
   "cell_type": "code",
   "execution_count": 9,
   "metadata": {
    "collapsed": false
   },
   "outputs": [
    {
     "name": "stdout",
     "output_type": "stream",
     "text": [
      "SVM Accuracy for gamma=0.1: 0.8517760262053434\n",
      "SVM Accuracy for gamma=0.25: 0.8464530658204524\n",
      "SVM Accuracy for gamma=0.5: 0.8358071450506704\n",
      "SVM Accuracy for gamma=1.0: 0.8193264407820657\n",
      "SVM Accuracy for gamma=1.5: 0.8092947077490019\n",
      "SVM Accuracy for gamma=2.0: 0.8005937148121609\n",
      "SVM Accuracy for gamma=4.0: 0.7841130105435562\n"
     ]
    },
    {
     "data": {
      "image/png": "[encoded data removed]",
      "text/plain": [
       "<matplotlib.figure.Figure at 0x10e4a3240>"
      ]
     },
     "metadata": {},
     "output_type": "display_data"
    },
    {
     "data": {
      "text/plain": [
       "<matplotlib.figure.Figure at 0x10c6aff28>"
      ]
     },
     "metadata": {},
     "output_type": "display_data"
    }
   ],
   "source": [
    "# Change gamma parameter\n",
    "params = [0.1, 0.25, 0.5, 1.0, 1.5, 2.0, 4.0]\n",
    "accuracy = []\n",
    "\n",
    "for p in params:\n",
    "    svm = SVC(gamma=p)\n",
    "    svm.fit(indep_train, dep_train)\n",
    "    score = accuracy_score(svm.predict(indep_validation), dep_validation)\n",
    "    accuracy.append(score)\n",
    "    print(\"SVM Accuracy for gamma={}: {}\".format(p, score))\n",
    "    \n",
    "plt.scatter(params, accuracy, color='black')\n",
    "plt.xlabel('gamma')\n",
    "plt.ylabel('accuracy')\n",
    "plt.show()\n",
    "sns.despine()"
   ]
  },
  {
   "cell_type": "markdown",
   "metadata": {},
   "source": [
    "The `gamma` parameter in the SVC model defines how \"far\" a single data point influences the model. Low values of `gamma` means that a single data example will reach \"far\", while a high value means \"close\". Intuitively, this means that low `gamma` values will produce a higher accuracy.\n",
    "\n",
    "This can be seen in the plot above. As `gamma` increases, the accuracy decreases. Thus, we want a small value of `gamma` for our model."
   ]
  },
  {
   "cell_type": "code",
   "execution_count": 10,
   "metadata": {
    "collapsed": false
   },
   "outputs": [
    {
     "name": "stdout",
     "output_type": "stream",
     "text": [
      "SVM Accuracy without probability: 0.8505476507319071\n",
      "SVM Accuracy with probability: 0.8505476507319071\n"
     ]
    }
   ],
   "source": [
    "# Change probability parameter \n",
    "svm = SVC() # default is False\n",
    "svm.fit(indep_train, dep_train)\n",
    "true_shrinking_score = accuracy_score(svm.predict(indep_validation), dep_validation)\n",
    "print(\"SVM Accuracy without probability: {}\".format(true_shrinking_score))\n",
    "\n",
    "svm = SVC(probability=True)\n",
    "svm.fit(indep_train, dep_train)\n",
    "false_shrinking_score = accuracy_score(svm.predict(indep_validation), dep_validation)\n",
    "print(\"SVM Accuracy with probability: {}\".format(false_shrinking_score))"
   ]
  },
  {
   "cell_type": "markdown",
   "metadata": {},
   "source": [
    "<a id='svm_validation_result'></a>\n",
    "The `probability` parameter decides whether to use probability estimates when fitting the model or not. Turning on probability estimates slows down the fitting of the model since it has to calcuate the probability estimates.\n",
    "\n",
    "However, as we can see from the results above, this had no effect on the accuracy of our model in this case. It seems that the data is well represented without using probability estimates.\n",
    "\n",
    "Let's now combine our knowledge of how these parameters affect the accuracy to produce a final model that we will run the test data on."
   ]
  },
  {
   "cell_type": "code",
   "execution_count": 11,
   "metadata": {
    "collapsed": false
   },
   "outputs": [
    {
     "name": "stdout",
     "output_type": "stream",
     "text": [
      "SVM Accuracy on validation: 0.8507523799774798\n"
     ]
    }
   ],
   "source": [
    "# This is the final model\n",
    "svm = SVC(kernel='rbf', C=2.0, gamma=0.1, probability=False)\n",
    "svm.fit(indep_train, dep_train)\n",
    "score = accuracy_score(svm.predict(indep_validation), dep_validation)\n",
    "print(\"SVM Accuracy on validation: {}\".format(score))"
   ]
  },
  {
   "cell_type": "markdown",
   "metadata": {},
   "source": [
    "<a id='svm_test_result'></a>\n",
    "Finally, let's run our final model on the test data."
   ]
  },
  {
   "cell_type": "code",
   "execution_count": 12,
   "metadata": {
    "collapsed": false
   },
   "outputs": [
    {
     "name": "stdout",
     "output_type": "stream",
     "text": [
      "(16281, 15)\n"
     ]
    },
    {
     "data": {
      "text/html": [
       "<div>\n",
       "<table border=\"1\" class=\"dataframe\">\n",
       "  <thead>\n",
       "    <tr style=\"text-align: right;\">\n",
       "      <th></th>\n",
       "      <th>age</th>\n",
       "      <th>workclass</th>\n",
       "      <th>fnlwgt</th>\n",
       "      <th>education</th>\n",
       "      <th>education-num</th>\n",
       "      <th>marital-status</th>\n",
       "      <th>occupation</th>\n",
       "      <th>relationship</th>\n",
       "      <th>race</th>\n",
       "      <th>sex</th>\n",
       "      <th>capital-gain</th>\n",
       "      <th>capital-loss</th>\n",
       "      <th>hours-per-week</th>\n",
       "      <th>native-country</th>\n",
       "      <th>salary</th>\n",
       "    </tr>\n",
       "  </thead>\n",
       "  <tbody>\n",
       "    <tr>\n",
       "      <th>0</th>\n",
       "      <td>25</td>\n",
       "      <td>3</td>\n",
       "      <td>226802</td>\n",
       "      <td>1</td>\n",
       "      <td>7</td>\n",
       "      <td>4</td>\n",
       "      <td>6</td>\n",
       "      <td>3</td>\n",
       "      <td>2</td>\n",
       "      <td>1</td>\n",
       "      <td>0</td>\n",
       "      <td>0</td>\n",
       "      <td>40</td>\n",
       "      <td>37</td>\n",
       "      <td>0</td>\n",
       "    </tr>\n",
       "    <tr>\n",
       "      <th>1</th>\n",
       "      <td>38</td>\n",
       "      <td>3</td>\n",
       "      <td>89814</td>\n",
       "      <td>11</td>\n",
       "      <td>9</td>\n",
       "      <td>2</td>\n",
       "      <td>4</td>\n",
       "      <td>0</td>\n",
       "      <td>4</td>\n",
       "      <td>1</td>\n",
       "      <td>0</td>\n",
       "      <td>0</td>\n",
       "      <td>50</td>\n",
       "      <td>37</td>\n",
       "      <td>0</td>\n",
       "    </tr>\n",
       "    <tr>\n",
       "      <th>2</th>\n",
       "      <td>28</td>\n",
       "      <td>1</td>\n",
       "      <td>336951</td>\n",
       "      <td>7</td>\n",
       "      <td>12</td>\n",
       "      <td>2</td>\n",
       "      <td>10</td>\n",
       "      <td>0</td>\n",
       "      <td>4</td>\n",
       "      <td>1</td>\n",
       "      <td>0</td>\n",
       "      <td>0</td>\n",
       "      <td>40</td>\n",
       "      <td>37</td>\n",
       "      <td>1</td>\n",
       "    </tr>\n",
       "    <tr>\n",
       "      <th>3</th>\n",
       "      <td>44</td>\n",
       "      <td>3</td>\n",
       "      <td>160323</td>\n",
       "      <td>15</td>\n",
       "      <td>10</td>\n",
       "      <td>2</td>\n",
       "      <td>6</td>\n",
       "      <td>0</td>\n",
       "      <td>2</td>\n",
       "      <td>1</td>\n",
       "      <td>7688</td>\n",
       "      <td>0</td>\n",
       "      <td>40</td>\n",
       "      <td>37</td>\n",
       "      <td>1</td>\n",
       "    </tr>\n",
       "    <tr>\n",
       "      <th>4</th>\n",
       "      <td>18</td>\n",
       "      <td>3</td>\n",
       "      <td>103497</td>\n",
       "      <td>15</td>\n",
       "      <td>10</td>\n",
       "      <td>4</td>\n",
       "      <td>9</td>\n",
       "      <td>3</td>\n",
       "      <td>4</td>\n",
       "      <td>0</td>\n",
       "      <td>0</td>\n",
       "      <td>0</td>\n",
       "      <td>30</td>\n",
       "      <td>37</td>\n",
       "      <td>0</td>\n",
       "    </tr>\n",
       "  </tbody>\n",
       "</table>\n",
       "</div>"
      ],
      "text/plain": [
       "   age  workclass  fnlwgt  education  education-num  marital-status  \\\n",
       "0   25          3  226802          1              7               4   \n",
       "1   38          3   89814         11              9               2   \n",
       "2   28          1  336951          7             12               2   \n",
       "3   44          3  160323         15             10               2   \n",
       "4   18          3  103497         15             10               4   \n",
       "\n",
       "   occupation  relationship  race  sex  capital-gain  capital-loss  \\\n",
       "0           6             3     2    1             0             0   \n",
       "1           4             0     4    1             0             0   \n",
       "2          10             0     4    1             0             0   \n",
       "3           6             0     2    1          7688             0   \n",
       "4           9             3     4    0             0             0   \n",
       "\n",
       "   hours-per-week  native-country  salary  \n",
       "0              40              37       0  \n",
       "1              50              37       0  \n",
       "2              40              37       1  \n",
       "3              40              37       1  \n",
       "4              30              37       0  "
      ]
     },
     "execution_count": 12,
     "metadata": {},
     "output_type": "execute_result"
    }
   ],
   "source": [
    "# Bring in test data and process it\n",
    "test_data = pd.read_csv(\"../dataset/test.data\", sep=', ', header=None, names=['age', 'workclass', 'fnlwgt', 'education', 'education-num', 'marital-status', 'occupation', 'relationship', 'race', 'sex', 'capital-gain', 'capital-loss', 'hours-per-week', 'native-country', 'salary'], engine='python')\n",
    "test_data = preprocess_data(test_data)\n",
    "\n",
    "print(test_data.shape)\n",
    "test_data.head()"
   ]
  },
  {
   "cell_type": "code",
   "execution_count": 13,
   "metadata": {
    "collapsed": false
   },
   "outputs": [
    {
     "name": "stdout",
     "output_type": "stream",
     "text": [
      "SVM Accuracy on test data: 0.8505620047908605\n"
     ]
    }
   ],
   "source": [
    "# Split and transform the independent data to run on the model\n",
    "indep_test_data, dep_test_data = test_data.iloc[:, :14], test_data.iloc[:, 14]\n",
    "indep_test_data = scale.transform(indep_test_data)\n",
    "\n",
    "score = accuracy_score(svm.predict(indep_test_data), dep_test_data)\n",
    "print(\"SVM Accuracy on test data: {}\".format(score))"
   ]
  },
  {
   "cell_type": "markdown",
   "metadata": {},
   "source": [
    "### Report Questions\n",
    "\n",
    "1. The data was split using a standard percentage. The percentages that were tried were 30%, 40%, 50%, 60%, and 70%; where those percentages represent the test size. The 30% split gave the best accuracy on the validation set.\n",
    "2. The accuracy for each kernel is displayed in the relevant code above. [[Here]](#svm_kernel)\n",
    "3. Three other parameters were tweaked and the plots or results are displayed in the relevant code above. [[Here]](#svm_param_tweaks)\n",
    "\n",
    "##### Final SVM Questions\n",
    "1. The final parameters used in my model were:\n",
    "    - kernel: RBF\n",
    "    - C: 2.0\n",
    "    - gamma: 0.1\n",
    "    - probability: False\n",
    "2. I did not remove any features. I felt that all of the features in the data were meaningful features that could provide some insight to the salary of the person. Therefore, I wanted to use all of the features so as to not miss something that the data could tell me.\n",
    "3. The accuracy for the final model on the validation set is displayed in the relevant code above. [[Here]](#svm_validation_result)\n",
    "4. The accuracy for the final model on the test data is displayed in the relevant code above. [[Here]](#svm_test_result)"
   ]
  },
  {
   "cell_type": "markdown",
   "metadata": {},
   "source": [
    "## Part 2 - AdaBoostClassifier\n",
    "\n",
    "<a id='boost_estimators'></a>\n",
    "Next we're going to use the AdaBoostClassifier to fit our model. We'll try 8 different numbers of estimators and 10 different learning rates to try and get the best possible model."
   ]
  },
  {
   "cell_type": "code",
   "execution_count": 14,
   "metadata": {
    "collapsed": false
   },
   "outputs": [
    {
     "name": "stdout",
     "output_type": "stream",
     "text": [
      "Boost Accuracy for 10 estimators: 0.8513665677141979\n",
      "Boost Accuracy for 20 estimators: 0.8575084450813799\n",
      "Boost Accuracy for 30 estimators: 0.8596581021598936\n",
      "Boost Accuracy for 40 estimators: 0.860067560651039\n",
      "Boost Accuracy for 50 estimators: 0.8616030299928344\n",
      "Boost Accuracy for 100 estimators: 0.8660047087726481\n",
      "Boost Accuracy for 200 estimators: 0.8678472719828028\n",
      "Boost Accuracy for 400 estimators: 0.8724536800081891\n"
     ]
    },
    {
     "data": {
      "image/png": "[encoded data removed]",
      "text/plain": [
       "<matplotlib.figure.Figure at 0x10c6a96a0>"
      ]
     },
     "metadata": {},
     "output_type": "display_data"
    },
    {
     "data": {
      "text/plain": [
       "<matplotlib.figure.Figure at 0x10f6c0518>"
      ]
     },
     "metadata": {},
     "output_type": "display_data"
    }
   ],
   "source": [
    "estimators = [10, 20, 30, 40, 50, 100, 200, 400]\n",
    "accuracy = []\n",
    "\n",
    "for n in estimators:\n",
    "    boost = AdaBoostClassifier(n_estimators=n)\n",
    "    boost.fit(indep_train, dep_train)\n",
    "    score = accuracy_score(boost.predict(indep_validation), dep_validation)\n",
    "    accuracy.append(score)\n",
    "    print(\"Boost Accuracy for {} estimators: {}\".format(n, score))\n",
    "    \n",
    "plt.scatter(estimators, accuracy, color='black')\n",
    "plt.xlabel('estimators')\n",
    "plt.ylabel('accuracy')\n",
    "plt.show()\n",
    "sns.despine()"
   ]
  },
  {
   "cell_type": "markdown",
   "metadata": {},
   "source": [
    "<a id='boost_learning_rate'></a>\n",
    "We can see from the plot that as we increase the estimators, the accuracy increases as well. However, it starts to taper off as we get to a large number of estimators. This intuitively makes sense, because more estimators helps more with larger dataset sizes."
   ]
  },
  {
   "cell_type": "code",
   "execution_count": 15,
   "metadata": {
    "collapsed": false
   },
   "outputs": [
    {
     "name": "stdout",
     "output_type": "stream",
     "text": [
      "Boost Accuracy for learning rate of 0.1: 0.8446105026102979\n",
      "Boost Accuracy for learning rate of 0.25: 0.8542327771522162\n",
      "Boost Accuracy for learning rate of 0.4: 0.8558706111167981\n",
      "Boost Accuracy for learning rate of 0.5: 0.8595557375371071\n",
      "Boost Accuracy for learning rate of 0.6: 0.8609888422561163\n",
      "Boost Accuracy for learning rate of 0.75: 0.8588391851776026\n",
      "Boost Accuracy for learning rate of 1.0: 0.8616030299928344\n",
      "Boost Accuracy for learning rate of 1.5: 0.8591462790459617\n",
      "Boost Accuracy for learning rate of 2.0: 0.7631282628723514\n",
      "Boost Accuracy for learning rate of 5.0: 0.2368717371276487\n"
     ]
    },
    {
     "data": {
      "image/png": "[encoded data removed]",
      "text/plain": [
       "<matplotlib.figure.Figure at 0x10c70fa58>"
      ]
     },
     "metadata": {},
     "output_type": "display_data"
    },
    {
     "data": {
      "text/plain": [
       "<matplotlib.figure.Figure at 0x10cbe3ef0>"
      ]
     },
     "metadata": {},
     "output_type": "display_data"
    }
   ],
   "source": [
    "learning_rates = [0.1, 0.25, 0.4, 0.5, 0.6, 0.75, 1.0, 1.5, 2.0, 5.0]\n",
    "accuracy = []\n",
    "\n",
    "for rate in learning_rates:\n",
    "    boost = AdaBoostClassifier(learning_rate=rate)\n",
    "    boost.fit(indep_train, dep_train)\n",
    "    score = accuracy_score(boost.predict(indep_validation), dep_validation)\n",
    "    accuracy.append(score)\n",
    "    print(\"Boost Accuracy for learning rate of {}: {}\".format(rate, score))\n",
    "    \n",
    "plt.scatter(learning_rates, accuracy, color='black')\n",
    "plt.xlabel('learning rates')\n",
    "plt.ylabel('accuracy')\n",
    "plt.show()\n",
    "sns.despine()"
   ]
  },
  {
   "cell_type": "markdown",
   "metadata": {},
   "source": [
    "We can see from the plot that most of the lower learning rates keep the accuracy at around the same value. It actually hits a peak at a learning rate of 1.5. After that, the accuracy starts to tank and hits really low at a learning rate of 5.0. Again, this makes sense beacuse with a high learning rate you are likely to overshoot the true model.\n",
    "\n",
    "<a id='boost_validation_result'></a>\n",
    "Let's use what we've learned to fit a final model."
   ]
  },
  {
   "cell_type": "code",
   "execution_count": 16,
   "metadata": {
    "collapsed": false
   },
   "outputs": [
    {
     "name": "stdout",
     "output_type": "stream",
     "text": [
      "Boost Accuracy on validation set: 0.8691780120790255\n"
     ]
    }
   ],
   "source": [
    "# This is the final model\n",
    "final_boost = AdaBoostClassifier(n_estimators=600, learning_rate=1.72)\n",
    "final_boost.fit(indep_train, dep_train)\n",
    "\n",
    "score = accuracy_score(final_boost.predict(indep_validation), dep_validation)\n",
    "print(\"Boost Accuracy on validation set: {}\".format(score))"
   ]
  },
  {
   "cell_type": "markdown",
   "metadata": {},
   "source": [
    "<a id='boost_test_result'></a>\n",
    "Lastly, let's run the model on the test data."
   ]
  },
  {
   "cell_type": "code",
   "execution_count": 17,
   "metadata": {
    "collapsed": false
   },
   "outputs": [
    {
     "name": "stdout",
     "output_type": "stream",
     "text": [
      "Boost Accuracy on test data: 0.8689269700878325\n"
     ]
    }
   ],
   "source": [
    "score = accuracy_score(final_boost.predict(indep_test_data), dep_test_data)\n",
    "print(\"Boost Accuracy on test data: {}\".format(score))"
   ]
  },
  {
   "cell_type": "markdown",
   "metadata": {},
   "source": [
    "### Report Questions\n",
    "\n",
    "1. The plot as the estimators change is displayed in the relevant code above. [[Here]](#boost_estimators)\n",
    "2. The plot as the learning rate changes is displayed in the relevant code above. [[Here]](#boost_learning_rate)\n",
    "\n",
    "##### Final AdaBoostClassifier Questions\n",
    "1. The final parameters I used in my model were:\n",
    "    - n_estimators: 600\n",
    "    - learning_rate: 1.72\n",
    "2. The accuracy for the final model on the validation set is displayed in the relevant code above. [[Here]](#boost_validation_result)\n",
    "3. The accuracy for the final model on the test data is displayed in the relevant code above. [[Here]](#boost_test_result)"
   ]
  }
 ],
 "metadata": {
  "kernelspec": {
   "display_name": "Python 3",
   "language": "python",
   "name": "python3"
  },
  "language_info": {
   "codemirror_mode": {
    "name": "ipython",
    "version": 3
   },
   "file_extension": ".py",
   "mimetype": "text/x-python",
   "name": "python",
   "nbconvert_exporter": "python",
   "pygments_lexer": "ipython3",
   "version": "3.5.1"
  }
 },
 "nbformat": 4,
 "nbformat_minor": 0
}
